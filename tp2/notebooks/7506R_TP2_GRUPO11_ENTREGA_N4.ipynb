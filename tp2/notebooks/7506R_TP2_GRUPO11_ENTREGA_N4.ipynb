{
  "nbformat": 4,
  "nbformat_minor": 0,
  "metadata": {
    "colab": {
      "provenance": []
    },
    "kernelspec": {
      "name": "python3",
      "display_name": "Python 3"
    },
    "language_info": {
      "name": "python"
    }
  },
  "cells": [
    {
      "cell_type": "markdown",
      "source": [
        "# Trabajo Práctico 2: Reseñas de Películas - Naive Bayes\n",
        "\n",
        "## Grupo 11 - \"Los Outliers\"\n",
        "\n",
        "- Castillo, Carlos\n",
        "- Destefanis, Juan Pablo\n",
        "- Gómez, Celeste"
      ],
      "metadata": {
        "id": "GXdLn-5PBZ8J"
      }
    },
    {
      "cell_type": "code",
      "execution_count": 2,
      "metadata": {
        "id": "8KUup2Xl9CSF"
      },
      "outputs": [],
      "source": [
        "import pandas as pd\n",
        "import numpy as np\n",
        "\n",
        "import matplotlib.pyplot as plt\n",
        "import seaborn as sns\n",
        "\n",
        "from sklearn.model_selection import train_test_split\n",
        "from sklearn.naive_bayes import MultinomialNB\n",
        "from sklearn.feature_extraction.text import TfidfVectorizer\n",
        "from sklearn import metrics\n",
        "\n",
        "# Constants\n",
        "SEED = 13"
      ]
    },
    {
      "cell_type": "markdown",
      "source": [
        "En esta notebook, detallamos el entrenamiento del modelo Naive Bayes que resultó obtener el mejor resultado en Kaggle. La idea era usarlo solamente de benchmark para el resto de los modelos."
      ],
      "metadata": {
        "id": "9HYyJ5VSCycM"
      }
    },
    {
      "cell_type": "markdown",
      "source": [
        "## Carga de datos\n",
        "\n",
        "Para el preprocesamiento de los datasets, se eliminó la repeticion de entidades y los tokens sin POS, se le agrego un Regex de limpieza manual, IOB encoding y manejo de las negaciones por enunciado (hasta siguiente signo de puntuacion).\n",
        "\n",
        "Para ahorrar tiempo, importamos los CSVs ya preprocesados."
      ],
      "metadata": {
        "id": "PZLxHxJRB_As"
      }
    },
    {
      "cell_type": "code",
      "source": [
        "df_train = pd.read_csv(\"train-naive-bayes.csv\", encoding='utf-8', on_bad_lines='warn')\n",
        "df_test = pd.read_csv(\"test-naive-bayes.csv\", index_col=0)\n",
        "\n",
        "X_train, X_test, y_train, y_test = train_test_split(df_train.review_es, df_train.sentimiento, test_size=0.2, random_state=SEED, stratify=df_train.sentimiento)"
      ],
      "metadata": {
        "id": "jbXkXxwc9jsy"
      },
      "execution_count": 5,
      "outputs": []
    },
    {
      "cell_type": "markdown",
      "source": [
        "## Vectorización"
      ],
      "metadata": {
        "id": "PiwgP_TBEq9N"
      }
    },
    {
      "cell_type": "markdown",
      "source": [
        "Creamos el TFIDF vectorizer para convertir los datasets en matrices a usar en el modelo."
      ],
      "metadata": {
        "id": "4c5iAgjyFOcg"
      }
    },
    {
      "cell_type": "code",
      "source": [
        "vectorizer = TfidfVectorizer(\n",
        "    ngram_range=(1,2),\n",
        "    min_df=10\n",
        ")\n",
        "\n",
        "X_train_vectorized = vectorizer.fit_transform(X_train)\n",
        "X_test_vectorized = vectorizer.transform(X_test)\n",
        "X_train_vectorized"
      ],
      "metadata": {
        "colab": {
          "base_uri": "https://localhost:8080/"
        },
        "id": "eT90F7Yv9kkc",
        "outputId": "7b8f0513-6948-467d-cf3d-565a062ab166"
      },
      "execution_count": 8,
      "outputs": [
        {
          "output_type": "execute_result",
          "data": {
            "text/plain": [
              "<40000x117455 sparse matrix of type '<class 'numpy.float64'>'\n",
              "\twith 10522043 stored elements in Compressed Sparse Row format>"
            ]
          },
          "metadata": {},
          "execution_count": 8
        }
      ]
    },
    {
      "cell_type": "markdown",
      "source": [
        "## Entrenamiento"
      ],
      "metadata": {
        "id": "3LyrNhiGGO_R"
      }
    },
    {
      "cell_type": "code",
      "source": [
        "clf = MultinomialNB()\n",
        "clf.fit(X_train_vectorized, y_train)\n",
        "y_pred_test = clf.predict(X_test_vectorized)\n",
        "\n",
        "sns.heatmap(metrics.confusion_matrix(y_test, y_pred_test), cmap='Blues', annot=True, fmt='g')\n",
        "plt.xlabel('Predicted')\n",
        "plt.ylabel('True')\n",
        "\n",
        "print(metrics.classification_report(y_test, y_pred_test, zero_division=0))\n",
        "print('F1-Score: {}'.format(metrics.f1_score(y_test, y_pred_test, average='macro')))\n",
        "print('Accuracy: {}'.format(metrics.accuracy_score(y_test, y_pred_test)))\n",
        "print('Precision: {}'.format(metrics.precision_score(y_test, y_pred_test, average='macro', zero_division=0)))\n",
        "print('Recall: {}'.format(metrics.recall_score(y_test, y_pred_test, average='macro', zero_division=0)))"
      ],
      "metadata": {
        "colab": {
          "base_uri": "https://localhost:8080/",
          "height": 675
        },
        "id": "o2TDkcv39lkU",
        "outputId": "ff85de27-e1b5-454d-a790-ca0d9d8b6996"
      },
      "execution_count": 9,
      "outputs": [
        {
          "output_type": "stream",
          "name": "stdout",
          "text": [
            "              precision    recall  f1-score   support\n",
            "\n",
            "    negativo       0.88      0.87      0.88      5000\n",
            "    positivo       0.87      0.88      0.88      5000\n",
            "\n",
            "    accuracy                           0.88     10000\n",
            "   macro avg       0.88      0.88      0.88     10000\n",
            "weighted avg       0.88      0.88      0.88     10000\n",
            "\n",
            "F1-Score: 0.8753995015980065\n",
            "Accuracy: 0.8754\n",
            "Precision: 0.8754060064961039\n",
            "Recall: 0.8754\n"
          ]
        },
        {
          "output_type": "display_data",
          "data": {
            "text/plain": [
              "<Figure size 640x480 with 2 Axes>"
            ],
            "image/png": "[encoded data removed]"
          },
          "metadata": {}
        }
      ]
    }
  ]
}