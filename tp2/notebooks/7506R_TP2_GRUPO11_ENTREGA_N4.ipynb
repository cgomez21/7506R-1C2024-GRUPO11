{
 "cells": [
  {
   "cell_type": "markdown",
   "id": "9a598fb2-1f9d-4686-a0be-d23ccd7ec922",
   "metadata": {},
   "source": [
    "# Trabajo Práctico 2: Reseñas de Películas - XGBoost\n",
    "\n",
    "## Grupo 11 - \"Los Outliers\"\n",
    "\n",
    "- Castillo, Carlos\n",
    "- Destefanis, Juan Pablo\n",
    "- Gómez, Celeste"
   ]
  },
  {
   "cell_type": "code",
   "execution_count": 1,
   "id": "2340bc84-5857-42c1-a698-cdc040141470",
   "metadata": {},
   "outputs": [],
   "source": [
    "import pandas as pd\n",
    "import matplotlib.pyplot as plt\n",
    "import seaborn as sns\n",
    "\n",
    "sns.set_theme()\n",
    "sns.set_palette('colorblind')"
   ]
  },
  {
   "cell_type": "markdown",
   "id": "7f8b27ea-297e-4db7-bbca-c58e7eaa091c",
   "metadata": {},
   "source": [
    "Para este modelo probamos con diferentes técnicas de preprocesamiento y feature engineering, como por ejemplo, contar la cantidad de signos de exclamación, negaciones y adjetivos negativos en cada crítica. Sin embargo al final terminamos obteniendo mejores resultados con los datasets más sencillos."
   ]
  },
  {
   "cell_type": "code",
   "execution_count": 2,
   "id": "200bcf1d-05de-4c67-8702-6e1f763c2888",
   "metadata": {},
   "outputs": [
    {
     "data": {
      "text/html": [
       "<div>\n",
       "<style scoped>\n",
       "    .dataframe tbody tr th:only-of-type {\n",
       "        vertical-align: middle;\n",
       "    }\n",
       "\n",
       "    .dataframe tbody tr th {\n",
       "        vertical-align: top;\n",
       "    }\n",
       "\n",
       "    .dataframe thead th {\n",
       "        text-align: right;\n",
       "    }\n",
       "</style>\n",
       "<table border=\"1\" class=\"dataframe\">\n",
       "  <thead>\n",
       "    <tr style=\"text-align: right;\">\n",
       "      <th></th>\n",
       "      <th>text_cleaned</th>\n",
       "      <th>lang</th>\n",
       "      <th>sentimiento</th>\n",
       "    </tr>\n",
       "    <tr>\n",
       "      <th>ID</th>\n",
       "      <th></th>\n",
       "      <th></th>\n",
       "      <th></th>\n",
       "    </tr>\n",
       "  </thead>\n",
       "  <tbody>\n",
       "    <tr>\n",
       "      <th>0</th>\n",
       "      <td>critico mencionar oz episodio estar enganchado...</td>\n",
       "      <td>es</td>\n",
       "      <td>positivo</td>\n",
       "    </tr>\n",
       "    <tr>\n",
       "      <th>1</th>\n",
       "      <td>pequén pequén produccion tecnica filmacion inc...</td>\n",
       "      <td>es</td>\n",
       "      <td>positivo</td>\n",
       "    </tr>\n",
       "    <tr>\n",
       "      <th>2</th>\n",
       "      <td>pense maravilloso pasar tiempo semana verano c...</td>\n",
       "      <td>es</td>\n",
       "      <td>positivo</td>\n",
       "    </tr>\n",
       "    <tr>\n",
       "      <th>3</th>\n",
       "      <td>basicamente familia nino pequeno jake pensar z...</td>\n",
       "      <td>es</td>\n",
       "      <td>negativo</td>\n",
       "    </tr>\n",
       "    <tr>\n",
       "      <th>4</th>\n",
       "      <td>amor tiempo petter mattei pelicula visualmente...</td>\n",
       "      <td>es</td>\n",
       "      <td>positivo</td>\n",
       "    </tr>\n",
       "  </tbody>\n",
       "</table>\n",
       "</div>"
      ],
      "text/plain": [
       "                                         text_cleaned lang sentimiento\n",
       "ID                                                                    \n",
       "0   critico mencionar oz episodio estar enganchado...   es    positivo\n",
       "1   pequén pequén produccion tecnica filmacion inc...   es    positivo\n",
       "2   pense maravilloso pasar tiempo semana verano c...   es    positivo\n",
       "3   basicamente familia nino pequeno jake pensar z...   es    negativo\n",
       "4   amor tiempo petter mattei pelicula visualmente...   es    positivo"
      ]
     },
     "execution_count": 2,
     "metadata": {},
     "output_type": "execute_result"
    }
   ],
   "source": [
    "df = pd.read_csv('../datasets/train-xgboost.zip', index_col=0)\n",
    "df.head()"
   ]
  },
  {
   "cell_type": "markdown",
   "id": "c35e9a9c-1e49-4efa-9288-3f549674b84a",
   "metadata": {},
   "source": [
    "Vamos a dividir el dataset en tres partes: training, validation y test, para así poder evaluar utilizar los conjuntos de validación durante el entrenamiento del XGBoost utilizando early stopping para evitar el overfitting. En este caso hacemos el stratify considerando tanto el idioma de la crítica como el sentimiento, para que de esta forma haya igual proporción de críticas en inglés en los tres conjuntos, así como también una igual proporción de críticas positivas y negativas en este idioma."
   ]
  },
  {
   "cell_type": "code",
   "execution_count": 3,
   "id": "a7abb94e-b050-4b96-925b-2c64945319a0",
   "metadata": {},
   "outputs": [],
   "source": [
    "df['lang+sentimiento'] = df['lang'].astype(str) + df['sentimiento'].astype(str)"
   ]
  },
  {
   "cell_type": "code",
   "execution_count": 4,
   "id": "294f1a2d-3bcc-4950-9920-b63b74ec907e",
   "metadata": {},
   "outputs": [],
   "source": [
    "from sklearn.model_selection import train_test_split\n",
    "\n",
    "X_train, X_test, y_train, y_test = train_test_split(df[['text_cleaned', 'lang+sentimiento']],\n",
    "                                                    df['sentimiento'],\n",
    "                                                    stratify=df['lang+sentimiento'],\n",
    "                                                    test_size=.2,\n",
    "                                                    random_state=1)\n",
    "\n",
    "X_train, X_valid, y_train, y_valid = train_test_split(X_train['text_cleaned'],\n",
    "                                                      y_train,\n",
    "                                                      stratify=X_train['lang+sentimiento'],\n",
    "                                                      test_size=.2,\n",
    "                                                      random_state=1)\n",
    "\n",
    "X_test = X_test['text_cleaned']"
   ]
  },
  {
   "cell_type": "markdown",
   "id": "3f8295be-687b-4c88-8bfc-3dcfd12eb114",
   "metadata": {},
   "source": [
    "Para este modelo probamos tres técnicas de tokenización y vectorización distintas: BoW, TF-IDF e hicimos un intento por utilizar embeddings preentrenadas a través del modelo [word2vec de la librería gensim](https://radimrehurek.com/gensim/models/word2vec.html). Sin embargo, con este último modelo el entrenamiento del modelo dilataba demasiado tiempo, por lo que desistimos en este intento. Entre los dos primeros métodos optimos por TF-IDF, ya que fué el que arrojó mejores resultados con los parámetros seleccionados.\n",
    "\n",
    "Notamos que mientras más incrementabamos la cantidad de ngramas, más overfitting experimentaba el modelo, debido a que aumentaba significativamente la complejidad del mismo. También incrementaba mucho el tiempo de entrenamiento.\n",
    "\n",
    "También convertimos las etiquetas a números ya que el modelo XGBoost solo puede trabajar con datos numéricos."
   ]
  },
  {
   "cell_type": "code",
   "execution_count": 6,
   "id": "5448b7bc-cd0b-4b09-ac83-99eb451a05b3",
   "metadata": {},
   "outputs": [],
   "source": [
    "from sklearn.feature_extraction.text import TfidfVectorizer\n",
    "from sklearn.preprocessing import LabelEncoder\n",
    "\n",
    "vectorizer = TfidfVectorizer(ngram_range=(1, 3), min_df=10)\n",
    "encoder = LabelEncoder()\n",
    "\n",
    "X_train_trans = vectorizer.fit_transform(X_train)\n",
    "X_valid_trans = vectorizer.transform(X_valid)\n",
    "X_test_trans = vectorizer.transform(X_test)\n",
    "\n",
    "y_train_trans = encoder.fit_transform(y_train)\n",
    "y_valid_trans = encoder.transform(y_valid)\n",
    "y_test_trans = encoder.transform(y_test)"
   ]
  },
  {
   "cell_type": "markdown",
   "id": "bdca61bc-19e6-4dea-a989-41f97dee5b27",
   "metadata": {},
   "source": [
    "## Entrenamiento"
   ]
  },
  {
   "cell_type": "markdown",
   "id": "7b6f5be6-5af4-4bbb-a8e9-e5502c69a393",
   "metadata": {},
   "source": [
    "En el caso de los hiperparámetros del modelo, utilizando grid search logramos acotar la búsqueda de los hiperparámetros al rango de valores que daba los mejores resultados. Finalmente tomamos los mejores modelos y terminamos llegando al siguiente conjunto de hiperparámetros:"
   ]
  },
  {
   "cell_type": "code",
   "execution_count": 7,
   "id": "0975ab35-a965-41dc-be62-dfd808e23c37",
   "metadata": {},
   "outputs": [
    {
     "name": "stdout",
     "output_type": "stream",
     "text": [
      "[400]\tvalidation_0-logloss:0.37194\n",
      "[401]\tvalidation_0-logloss:0.37180\n",
      "[402]\tvalidation_0-logloss:0.37185\n",
      "[403]\tvalidation_0-logloss:0.37149\n",
      "[404]\tvalidation_0-logloss:0.37125\n",
      "[405]\tvalidation_0-logloss:0.37112\n",
      "[406]\tvalidation_0-logloss:0.37110\n",
      "[407]\tvalidation_0-logloss:0.37096\n",
      "[408]\tvalidation_0-logloss:0.37072\n",
      "[409]\tvalidation_0-logloss:0.37054\n",
      "[410]\tvalidation_0-logloss:0.37043\n",
      "[411]\tvalidation_0-logloss:0.37036\n",
      "[412]\tvalidation_0-logloss:0.37027\n",
      "[413]\tvalidation_0-logloss:0.37024\n",
      "[414]\tvalidation_0-logloss:0.37016\n",
      "[415]\tvalidation_0-logloss:0.36994\n",
      "[416]\tvalidation_0-logloss:0.36986\n",
      "[417]\tvalidation_0-logloss:0.36983\n",
      "[418]\tvalidation_0-logloss:0.36964\n",
      "[419]\tvalidation_0-logloss:0.36960\n",
      "[420]\tvalidation_0-logloss:0.36942\n",
      "[421]\tvalidation_0-logloss:0.36937\n",
      "[422]\tvalidation_0-logloss:0.36935\n",
      "[423]\tvalidation_0-logloss:0.36935\n",
      "[424]\tvalidation_0-logloss:0.36925\n",
      "[425]\tvalidation_0-logloss:0.36920\n",
      "[426]\tvalidation_0-logloss:0.36912\n",
      "[427]\tvalidation_0-logloss:0.36896\n",
      "[428]\tvalidation_0-logloss:0.36894\n",
      "[429]\tvalidation_0-logloss:0.36879\n",
      "[430]\tvalidation_0-logloss:0.36856\n",
      "[431]\tvalidation_0-logloss:0.36840\n",
      "[432]\tvalidation_0-logloss:0.36832\n",
      "[433]\tvalidation_0-logloss:0.36818\n",
      "[434]\tvalidation_0-logloss:0.36808\n",
      "[435]\tvalidation_0-logloss:0.36801\n",
      "[436]\tvalidation_0-logloss:0.36799\n",
      "[437]\tvalidation_0-logloss:0.36793\n",
      "[438]\tvalidation_0-logloss:0.36781\n",
      "[439]\tvalidation_0-logloss:0.36773\n",
      "[440]\tvalidation_0-logloss:0.36774\n",
      "[441]\tvalidation_0-logloss:0.36747\n",
      "[442]\tvalidation_0-logloss:0.36731\n",
      "[443]\tvalidation_0-logloss:0.36734\n",
      "[444]\tvalidation_0-logloss:0.36721\n",
      "[445]\tvalidation_0-logloss:0.36717\n",
      "[446]\tvalidation_0-logloss:0.36707\n",
      "[447]\tvalidation_0-logloss:0.36688\n",
      "[448]\tvalidation_0-logloss:0.36684\n",
      "[449]\tvalidation_0-logloss:0.36688\n",
      "[450]\tvalidation_0-logloss:0.36673\n",
      "[451]\tvalidation_0-logloss:0.36678\n",
      "[452]\tvalidation_0-logloss:0.36672\n",
      "[453]\tvalidation_0-logloss:0.36659\n",
      "[454]\tvalidation_0-logloss:0.36653\n",
      "[455]\tvalidation_0-logloss:0.36642\n",
      "[456]\tvalidation_0-logloss:0.36635\n",
      "[457]\tvalidation_0-logloss:0.36630\n",
      "[458]\tvalidation_0-logloss:0.36631\n",
      "[459]\tvalidation_0-logloss:0.36635\n",
      "[460]\tvalidation_0-logloss:0.36629\n",
      "[461]\tvalidation_0-logloss:0.36624\n",
      "[462]\tvalidation_0-logloss:0.36622\n",
      "[463]\tvalidation_0-logloss:0.36623\n",
      "[464]\tvalidation_0-logloss:0.36624\n",
      "[465]\tvalidation_0-logloss:0.36619\n",
      "[466]\tvalidation_0-logloss:0.36603\n",
      "[467]\tvalidation_0-logloss:0.36605\n",
      "[468]\tvalidation_0-logloss:0.36590\n",
      "[469]\tvalidation_0-logloss:0.36585\n",
      "[470]\tvalidation_0-logloss:0.36592\n",
      "[471]\tvalidation_0-logloss:0.36604\n",
      "[472]\tvalidation_0-logloss:0.36587\n",
      "[473]\tvalidation_0-logloss:0.36580\n",
      "[474]\tvalidation_0-logloss:0.36562\n",
      "[475]\tvalidation_0-logloss:0.36553\n",
      "[476]\tvalidation_0-logloss:0.36541\n",
      "[477]\tvalidation_0-logloss:0.36536\n",
      "[478]\tvalidation_0-logloss:0.36539\n",
      "[479]\tvalidation_0-logloss:0.36533\n",
      "[480]\tvalidation_0-logloss:0.36513\n",
      "[481]\tvalidation_0-logloss:0.36504\n",
      "[482]\tvalidation_0-logloss:0.36499\n",
      "[483]\tvalidation_0-logloss:0.36494\n",
      "[484]\tvalidation_0-logloss:0.36476\n",
      "[485]\tvalidation_0-logloss:0.36490\n",
      "[486]\tvalidation_0-logloss:0.36472\n",
      "[487]\tvalidation_0-logloss:0.36450\n",
      "[488]\tvalidation_0-logloss:0.36451\n",
      "[489]\tvalidation_0-logloss:0.36449\n",
      "[490]\tvalidation_0-logloss:0.36441\n",
      "[491]\tvalidation_0-logloss:0.36436\n",
      "[492]\tvalidation_0-logloss:0.36432\n",
      "[493]\tvalidation_0-logloss:0.36430\n",
      "[494]\tvalidation_0-logloss:0.36419\n",
      "[495]\tvalidation_0-logloss:0.36417\n",
      "[496]\tvalidation_0-logloss:0.36407\n",
      "[497]\tvalidation_0-logloss:0.36401\n",
      "[498]\tvalidation_0-logloss:0.36388\n",
      "[499]\tvalidation_0-logloss:0.36383\n"
     ]
    },
    {
     "data": {
      "text/html": [
       "<style>#sk-container-id-1 {color: black;}#sk-container-id-1 pre{padding: 0;}#sk-container-id-1 div.sk-toggleable {background-color: white;}#sk-container-id-1 label.sk-toggleable__label {cursor: pointer;display: block;width: 100%;margin-bottom: 0;padding: 0.3em;box-sizing: border-box;text-align: center;}#sk-container-id-1 label.sk-toggleable__label-arrow:before {content: \"▸\";float: left;margin-right: 0.25em;color: #696969;}#sk-container-id-1 label.sk-toggleable__label-arrow:hover:before {color: black;}#sk-container-id-1 div.sk-estimator:hover label.sk-toggleable__label-arrow:before {color: black;}#sk-container-id-1 div.sk-toggleable__content {max-height: 0;max-width: 0;overflow: hidden;text-align: left;background-color: #f0f8ff;}#sk-container-id-1 div.sk-toggleable__content pre {margin: 0.2em;color: black;border-radius: 0.25em;background-color: #f0f8ff;}#sk-container-id-1 input.sk-toggleable__control:checked~div.sk-toggleable__content {max-height: 200px;max-width: 100%;overflow: auto;}#sk-container-id-1 input.sk-toggleable__control:checked~label.sk-toggleable__label-arrow:before {content: \"▾\";}#sk-container-id-1 div.sk-estimator input.sk-toggleable__control:checked~label.sk-toggleable__label {background-color: #d4ebff;}#sk-container-id-1 div.sk-label input.sk-toggleable__control:checked~label.sk-toggleable__label {background-color: #d4ebff;}#sk-container-id-1 input.sk-hidden--visually {border: 0;clip: rect(1px 1px 1px 1px);clip: rect(1px, 1px, 1px, 1px);height: 1px;margin: -1px;overflow: hidden;padding: 0;position: absolute;width: 1px;}#sk-container-id-1 div.sk-estimator {font-family: monospace;background-color: #f0f8ff;border: 1px dotted black;border-radius: 0.25em;box-sizing: border-box;margin-bottom: 0.5em;}#sk-container-id-1 div.sk-estimator:hover {background-color: #d4ebff;}#sk-container-id-1 div.sk-parallel-item::after {content: \"\";width: 100%;border-bottom: 1px solid gray;flex-grow: 1;}#sk-container-id-1 div.sk-label:hover label.sk-toggleable__label {background-color: #d4ebff;}#sk-container-id-1 div.sk-serial::before {content: \"\";position: absolute;border-left: 1px solid gray;box-sizing: border-box;top: 0;bottom: 0;left: 50%;z-index: 0;}#sk-container-id-1 div.sk-serial {display: flex;flex-direction: column;align-items: center;background-color: white;padding-right: 0.2em;padding-left: 0.2em;position: relative;}#sk-container-id-1 div.sk-item {position: relative;z-index: 1;}#sk-container-id-1 div.sk-parallel {display: flex;align-items: stretch;justify-content: center;background-color: white;position: relative;}#sk-container-id-1 div.sk-item::before, #sk-container-id-1 div.sk-parallel-item::before {content: \"\";position: absolute;border-left: 1px solid gray;box-sizing: border-box;top: 0;bottom: 0;left: 50%;z-index: -1;}#sk-container-id-1 div.sk-parallel-item {display: flex;flex-direction: column;z-index: 1;position: relative;background-color: white;}#sk-container-id-1 div.sk-parallel-item:first-child::after {align-self: flex-end;width: 50%;}#sk-container-id-1 div.sk-parallel-item:last-child::after {align-self: flex-start;width: 50%;}#sk-container-id-1 div.sk-parallel-item:only-child::after {width: 0;}#sk-container-id-1 div.sk-dashed-wrapped {border: 1px dashed gray;margin: 0 0.4em 0.5em 0.4em;box-sizing: border-box;padding-bottom: 0.4em;background-color: white;}#sk-container-id-1 div.sk-label label {font-family: monospace;font-weight: bold;display: inline-block;line-height: 1.2em;}#sk-container-id-1 div.sk-label-container {text-align: center;}#sk-container-id-1 div.sk-container {/* jupyter's `normalize.less` sets `[hidden] { display: none; }` but bootstrap.min.css set `[hidden] { display: none !important; }` so we also need the `!important` here to be able to override the default hidden behavior on the sphinx rendered scikit-learn.org. See: https://github.com/scikit-learn/scikit-learn/issues/21755 */display: inline-block !important;position: relative;}#sk-container-id-1 div.sk-text-repr-fallback {display: none;}</style><div id=\"sk-container-id-1\" class=\"sk-top-container\"><div class=\"sk-text-repr-fallback\"><pre>XGBClassifier(base_score=None, booster=None, callbacks=None,\n",
       "              colsample_bylevel=None, colsample_bynode=None,\n",
       "              colsample_bytree=None, device=None, early_stopping_rounds=None,\n",
       "              enable_categorical=False, eval_metric=None, feature_types=None,\n",
       "              gamma=4, grow_policy=None, importance_type=None,\n",
       "              interaction_constraints=None, learning_rate=0.3, max_bin=None,\n",
       "              max_cat_threshold=None, max_cat_to_onehot=None,\n",
       "              max_delta_step=None, max_depth=2, max_leaves=None,\n",
       "              min_child_weight=None, missing=nan, monotone_constraints=None,\n",
       "              multi_strategy=None, n_estimators=500, n_jobs=-1,\n",
       "              num_parallel_tree=None, random_state=None, ...)</pre><b>In a Jupyter environment, please rerun this cell to show the HTML representation or trust the notebook. <br />On GitHub, the HTML representation is unable to render, please try loading this page with nbviewer.org.</b></div><div class=\"sk-container\" hidden><div class=\"sk-item\"><div class=\"sk-estimator sk-toggleable\"><input class=\"sk-toggleable__control sk-hidden--visually\" id=\"sk-estimator-id-1\" type=\"checkbox\" checked><label for=\"sk-estimator-id-1\" class=\"sk-toggleable__label sk-toggleable__label-arrow\">XGBClassifier</label><div class=\"sk-toggleable__content\"><pre>XGBClassifier(base_score=None, booster=None, callbacks=None,\n",
       "              colsample_bylevel=None, colsample_bynode=None,\n",
       "              colsample_bytree=None, device=None, early_stopping_rounds=None,\n",
       "              enable_categorical=False, eval_metric=None, feature_types=None,\n",
       "              gamma=4, grow_policy=None, importance_type=None,\n",
       "              interaction_constraints=None, learning_rate=0.3, max_bin=None,\n",
       "              max_cat_threshold=None, max_cat_to_onehot=None,\n",
       "              max_delta_step=None, max_depth=2, max_leaves=None,\n",
       "              min_child_weight=None, missing=nan, monotone_constraints=None,\n",
       "              multi_strategy=None, n_estimators=500, n_jobs=-1,\n",
       "              num_parallel_tree=None, random_state=None, ...)</pre></div></div></div></div></div>"
      ],
      "text/plain": [
       "XGBClassifier(base_score=None, booster=None, callbacks=None,\n",
       "              colsample_bylevel=None, colsample_bynode=None,\n",
       "              colsample_bytree=None, device=None, early_stopping_rounds=None,\n",
       "              enable_categorical=False, eval_metric=None, feature_types=None,\n",
       "              gamma=4, grow_policy=None, importance_type=None,\n",
       "              interaction_constraints=None, learning_rate=0.3, max_bin=None,\n",
       "              max_cat_threshold=None, max_cat_to_onehot=None,\n",
       "              max_delta_step=None, max_depth=2, max_leaves=None,\n",
       "              min_child_weight=None, missing=nan, monotone_constraints=None,\n",
       "              multi_strategy=None, n_estimators=500, n_jobs=-1,\n",
       "              num_parallel_tree=None, random_state=None, ...)"
      ]
     },
     "execution_count": 7,
     "metadata": {},
     "output_type": "execute_result"
    }
   ],
   "source": [
    "from xgboost import XGBClassifier\n",
    "\n",
    "xgb = XGBClassifier(n_estimators=500,\n",
    "                    learning_rate=0.3,\n",
    "                    reg_alpha=0.2,\n",
    "                    reg_lambda=0.2,\n",
    "                    gamma=4,\n",
    "                    max_depth=2,\n",
    "                    n_jobs=-1,\n",
    "                    objective='binary:logistic')\n",
    "\n",
    "xgb.fit(X_train_trans, y_train_trans, eval_set=[(X_valid_trans, y_valid_trans)])"
   ]
  },
  {
   "cell_type": "code",
   "execution_count": 8,
   "id": "f61ddb30-b1f4-4910-93b1-bc6fa763cd63",
   "metadata": {},
   "outputs": [
    {
     "data": {
      "text/html": [
       "<style>#sk-container-id-2 {color: black;}#sk-container-id-2 pre{padding: 0;}#sk-container-id-2 div.sk-toggleable {background-color: white;}#sk-container-id-2 label.sk-toggleable__label {cursor: pointer;display: block;width: 100%;margin-bottom: 0;padding: 0.3em;box-sizing: border-box;text-align: center;}#sk-container-id-2 label.sk-toggleable__label-arrow:before {content: \"▸\";float: left;margin-right: 0.25em;color: #696969;}#sk-container-id-2 label.sk-toggleable__label-arrow:hover:before {color: black;}#sk-container-id-2 div.sk-estimator:hover label.sk-toggleable__label-arrow:before {color: black;}#sk-container-id-2 div.sk-toggleable__content {max-height: 0;max-width: 0;overflow: hidden;text-align: left;background-color: #f0f8ff;}#sk-container-id-2 div.sk-toggleable__content pre {margin: 0.2em;color: black;border-radius: 0.25em;background-color: #f0f8ff;}#sk-container-id-2 input.sk-toggleable__control:checked~div.sk-toggleable__content {max-height: 200px;max-width: 100%;overflow: auto;}#sk-container-id-2 input.sk-toggleable__control:checked~label.sk-toggleable__label-arrow:before {content: \"▾\";}#sk-container-id-2 div.sk-estimator input.sk-toggleable__control:checked~label.sk-toggleable__label {background-color: #d4ebff;}#sk-container-id-2 div.sk-label input.sk-toggleable__control:checked~label.sk-toggleable__label {background-color: #d4ebff;}#sk-container-id-2 input.sk-hidden--visually {border: 0;clip: rect(1px 1px 1px 1px);clip: rect(1px, 1px, 1px, 1px);height: 1px;margin: -1px;overflow: hidden;padding: 0;position: absolute;width: 1px;}#sk-container-id-2 div.sk-estimator {font-family: monospace;background-color: #f0f8ff;border: 1px dotted black;border-radius: 0.25em;box-sizing: border-box;margin-bottom: 0.5em;}#sk-container-id-2 div.sk-estimator:hover {background-color: #d4ebff;}#sk-container-id-2 div.sk-parallel-item::after {content: \"\";width: 100%;border-bottom: 1px solid gray;flex-grow: 1;}#sk-container-id-2 div.sk-label:hover label.sk-toggleable__label {background-color: #d4ebff;}#sk-container-id-2 div.sk-serial::before {content: \"\";position: absolute;border-left: 1px solid gray;box-sizing: border-box;top: 0;bottom: 0;left: 50%;z-index: 0;}#sk-container-id-2 div.sk-serial {display: flex;flex-direction: column;align-items: center;background-color: white;padding-right: 0.2em;padding-left: 0.2em;position: relative;}#sk-container-id-2 div.sk-item {position: relative;z-index: 1;}#sk-container-id-2 div.sk-parallel {display: flex;align-items: stretch;justify-content: center;background-color: white;position: relative;}#sk-container-id-2 div.sk-item::before, #sk-container-id-2 div.sk-parallel-item::before {content: \"\";position: absolute;border-left: 1px solid gray;box-sizing: border-box;top: 0;bottom: 0;left: 50%;z-index: -1;}#sk-container-id-2 div.sk-parallel-item {display: flex;flex-direction: column;z-index: 1;position: relative;background-color: white;}#sk-container-id-2 div.sk-parallel-item:first-child::after {align-self: flex-end;width: 50%;}#sk-container-id-2 div.sk-parallel-item:last-child::after {align-self: flex-start;width: 50%;}#sk-container-id-2 div.sk-parallel-item:only-child::after {width: 0;}#sk-container-id-2 div.sk-dashed-wrapped {border: 1px dashed gray;margin: 0 0.4em 0.5em 0.4em;box-sizing: border-box;padding-bottom: 0.4em;background-color: white;}#sk-container-id-2 div.sk-label label {font-family: monospace;font-weight: bold;display: inline-block;line-height: 1.2em;}#sk-container-id-2 div.sk-label-container {text-align: center;}#sk-container-id-2 div.sk-container {/* jupyter's `normalize.less` sets `[hidden] { display: none; }` but bootstrap.min.css set `[hidden] { display: none !important; }` so we also need the `!important` here to be able to override the default hidden behavior on the sphinx rendered scikit-learn.org. See: https://github.com/scikit-learn/scikit-learn/issues/21755 */display: inline-block !important;position: relative;}#sk-container-id-2 div.sk-text-repr-fallback {display: none;}</style><div id=\"sk-container-id-2\" class=\"sk-top-container\"><div class=\"sk-text-repr-fallback\"><pre>XGBClassifier(base_score=None, booster=None, callbacks=None,\n",
       "              colsample_bylevel=None, colsample_bynode=None,\n",
       "              colsample_bytree=None, device=None, early_stopping_rounds=None,\n",
       "              enable_categorical=False, eval_metric=None, feature_types=None,\n",
       "              gamma=4, grow_policy=None, importance_type=None,\n",
       "              interaction_constraints=None, learning_rate=0.3, max_bin=None,\n",
       "              max_cat_threshold=None, max_cat_to_onehot=None,\n",
       "              max_delta_step=None, max_depth=2, max_leaves=None,\n",
       "              min_child_weight=None, missing=nan, monotone_constraints=None,\n",
       "              multi_strategy=None, n_estimators=500, n_jobs=-1,\n",
       "              num_parallel_tree=None, random_state=None, ...)</pre><b>In a Jupyter environment, please rerun this cell to show the HTML representation or trust the notebook. <br />On GitHub, the HTML representation is unable to render, please try loading this page with nbviewer.org.</b></div><div class=\"sk-container\" hidden><div class=\"sk-item\"><div class=\"sk-estimator sk-toggleable\"><input class=\"sk-toggleable__control sk-hidden--visually\" id=\"sk-estimator-id-2\" type=\"checkbox\" checked><label for=\"sk-estimator-id-2\" class=\"sk-toggleable__label sk-toggleable__label-arrow\">XGBClassifier</label><div class=\"sk-toggleable__content\"><pre>XGBClassifier(base_score=None, booster=None, callbacks=None,\n",
       "              colsample_bylevel=None, colsample_bynode=None,\n",
       "              colsample_bytree=None, device=None, early_stopping_rounds=None,\n",
       "              enable_categorical=False, eval_metric=None, feature_types=None,\n",
       "              gamma=4, grow_policy=None, importance_type=None,\n",
       "              interaction_constraints=None, learning_rate=0.3, max_bin=None,\n",
       "              max_cat_threshold=None, max_cat_to_onehot=None,\n",
       "              max_delta_step=None, max_depth=2, max_leaves=None,\n",
       "              min_child_weight=None, missing=nan, monotone_constraints=None,\n",
       "              multi_strategy=None, n_estimators=500, n_jobs=-1,\n",
       "              num_parallel_tree=None, random_state=None, ...)</pre></div></div></div></div></div>"
      ],
      "text/plain": [
       "XGBClassifier(base_score=None, booster=None, callbacks=None,\n",
       "              colsample_bylevel=None, colsample_bynode=None,\n",
       "              colsample_bytree=None, device=None, early_stopping_rounds=None,\n",
       "              enable_categorical=False, eval_metric=None, feature_types=None,\n",
       "              gamma=4, grow_policy=None, importance_type=None,\n",
       "              interaction_constraints=None, learning_rate=0.3, max_bin=None,\n",
       "              max_cat_threshold=None, max_cat_to_onehot=None,\n",
       "              max_delta_step=None, max_depth=2, max_leaves=None,\n",
       "              min_child_weight=None, missing=nan, monotone_constraints=None,\n",
       "              multi_strategy=None, n_estimators=500, n_jobs=-1,\n",
       "              num_parallel_tree=None, random_state=None, ...)"
      ]
     },
     "execution_count": 8,
     "metadata": {},
     "output_type": "execute_result"
    }
   ],
   "source": [
    "xgb"
   ]
  },
  {
   "cell_type": "markdown",
   "id": "7a92743c-faba-40e1-82ed-e4e2cd72203c",
   "metadata": {},
   "source": [
    "Al incrementar la cantidad de estimadores y reducir la profundidad de los mismos logramos reducir significativamente los niveles de overfitting que mostraban los primeros modelos candidatos arrojados por el grid search. Así mismo, la inclusión de los parámetros de regularización alpha, lambda y gamma ayudó a combatir este mismo problema. El valor del learning rate fue ajustado constantemente y finalmente el elegido resultó dar un buen balance entre velocidad de entrenamiento, evitar que el mismo sufriera de \"graddient exploding\" y prevenir el underfitting."
   ]
  },
  {
   "cell_type": "markdown",
   "id": "1099a40f-ee50-4e1f-be5b-23cc8bc9f3f6",
   "metadata": {},
   "source": [
    "## Evaluación"
   ]
  },
  {
   "cell_type": "markdown",
   "id": "e3e42b1b-289a-4c19-b0f3-b0d3830dcfa1",
   "metadata": {},
   "source": [
    "Finalmente, las métricas del que resultó ser el mejor modelo en los tres conjuntos fueron las siguientes:"
   ]
  },
  {
   "cell_type": "code",
   "execution_count": 9,
   "id": "fc9536ed-e6a8-4b49-b025-203d1812e8c0",
   "metadata": {},
   "outputs": [
    {
     "name": "stdout",
     "output_type": "stream",
     "text": [
      "              precision    recall  f1-score   support\n",
      "\n",
      "           0       0.92      0.88      0.90     16000\n",
      "           1       0.88      0.92      0.90     15999\n",
      "\n",
      "    accuracy                           0.90     31999\n",
      "   macro avg       0.90      0.90      0.90     31999\n",
      "weighted avg       0.90      0.90      0.90     31999\n",
      "\n"
     ]
    }
   ],
   "source": [
    "from sklearn.metrics import classification_report\n",
    "\n",
    "y_train_pred = xgb.predict(X_train_trans)\n",
    "print(classification_report(y_train_trans, y_train_pred))"
   ]
  },
  {
   "cell_type": "code",
   "execution_count": 10,
   "id": "08c47ec6-8e7d-40df-99f8-6b1ffb690b23",
   "metadata": {},
   "outputs": [
    {
     "name": "stdout",
     "output_type": "stream",
     "text": [
      "              precision    recall  f1-score   support\n",
      "\n",
      "           0       0.85      0.82      0.84      4000\n",
      "           1       0.83      0.86      0.84      4000\n",
      "\n",
      "    accuracy                           0.84      8000\n",
      "   macro avg       0.84      0.84      0.84      8000\n",
      "weighted avg       0.84      0.84      0.84      8000\n",
      "\n"
     ]
    }
   ],
   "source": [
    "y_valid_pred = xgb.predict(X_valid_trans)\n",
    "print(classification_report(y_valid_trans, y_valid_pred))"
   ]
  },
  {
   "cell_type": "code",
   "execution_count": 11,
   "id": "c538f1d5-f518-40dc-a7b0-fea73cbd35f5",
   "metadata": {},
   "outputs": [
    {
     "name": "stdout",
     "output_type": "stream",
     "text": [
      "              precision    recall  f1-score   support\n",
      "\n",
      "           0       0.86      0.83      0.85      5000\n",
      "           1       0.84      0.87      0.85      5000\n",
      "\n",
      "    accuracy                           0.85     10000\n",
      "   macro avg       0.85      0.85      0.85     10000\n",
      "weighted avg       0.85      0.85      0.85     10000\n",
      "\n"
     ]
    }
   ],
   "source": [
    "y_test_pred = xgb.predict(X_test_trans)\n",
    "print(classification_report(y_test_trans, y_test_pred))"
   ]
  },
  {
   "cell_type": "markdown",
   "id": "a6b297c2-5e15-4d3e-aa63-5a0a481aff43",
   "metadata": {},
   "source": [
    "En base a los resultados del modelo frente a datos que no ha visto antes podemos llegar a concluir que el modelo hace un buen trabajo evitando el overfitting excesivo. Las métricas son altas y relativamente cercanas a los resultados obtenidos en el mismo dataset en el que fue entrenado, por lo que consideramos que esta versión del modelo a la que llegamos hace un buen trabajo generalizando."
   ]
  },
  {
   "cell_type": "code",
   "execution_count": 12,
   "id": "35895293-8253-45a0-9513-047d136a26d4",
   "metadata": {},
   "outputs": [
    {
     "data": {
      "image/png": "[encoded data removed]",
      "text/plain": [
       "<Figure size 640x480 with 2 Axes>"
      ]
     },
     "metadata": {},
     "output_type": "display_data"
    }
   ],
   "source": [
    "from sklearn.metrics import confusion_matrix\n",
    "\n",
    "sns.heatmap(confusion_matrix(y_test_trans, y_test_pred), cmap='Blues', annot=True, fmt='g')\n",
    "plt.show()"
   ]
  },
  {
   "cell_type": "markdown",
   "id": "b4d10a40-4c54-4577-b29c-d8443e50abab",
   "metadata": {},
   "source": [
    "La matriz de confusión de los resultados sobre el conjunto de test verifican nuestra idea de que el modelo tiene buen desempeño por la poca cantidad de falsos positivos y falsos negativos."
   ]
  },
  {
   "cell_type": "markdown",
   "id": "832fe88a-223a-4853-b520-2c80aede9849",
   "metadata": {},
   "source": [
    "## Predicciones"
   ]
  },
  {
   "cell_type": "markdown",
   "id": "91d0a3ec-6d79-4b6d-8583-86ab7b5295b1",
   "metadata": {},
   "source": [
    "Hacemos las predicciones para subir a la competencia de Kaggle."
   ]
  },
  {
   "cell_type": "code",
   "execution_count": 13,
   "id": "3341fe66-2027-4dea-8d6c-af9bf2feec6f",
   "metadata": {},
   "outputs": [],
   "source": [
    "kaggle_df = pd.read_csv('../datasets/test-xgboost.zip', index_col=0)\n",
    "kaggle_df['sentimiento'] = encoder.inverse_transform(xgb.predict(vectorizer.transform(kaggle_df['text_cleaned'])))"
   ]
  },
  {
   "cell_type": "code",
   "execution_count": 14,
   "id": "f7eca5b6-7861-4ad5-8861-0cce30438b36",
   "metadata": {},
   "outputs": [],
   "source": [
    "kaggle_df['sentimiento'].to_csv('xgboost-n_estimators-500-learning_rate-0-3-reg_alpha-0-2-reg_lambda-0-2-gamma-4.csv')"
   ]
  },
  {
   "cell_type": "markdown",
   "id": "ae4f5858-8907-47cf-bcf1-262122e52f1e",
   "metadata": {},
   "source": [
    "## Guardado del Modelo"
   ]
  },
  {
   "cell_type": "markdown",
   "id": "0c4de7bd-c4e4-477d-a52a-3f5dee1a51e9",
   "metadata": {},
   "source": [
    "Exportamos el modelo para que pueda ser utilizado nuevamente sin necesidad de ser re-entrenado."
   ]
  },
  {
   "cell_type": "code",
   "execution_count": 15,
   "id": "1df24147-021b-44df-9c2f-4c62aeabcfb9",
   "metadata": {},
   "outputs": [
    {
     "data": {
      "text/plain": [
       "['../modelos/xgboost.joblib']"
      ]
     },
     "execution_count": 15,
     "metadata": {},
     "output_type": "execute_result"
    }
   ],
   "source": [
    "from joblib import dump\n",
    "\n",
    "dump(xgb, '../modelos/xgboost.joblib', compress=True)"
   ]
  }
 ],
 "metadata": {
  "kernelspec": {
   "display_name": "Python 3 (ipykernel)",
   "language": "python",
   "name": "python3"
  },
  "language_info": {
   "codemirror_mode": {
    "name": "ipython",
    "version": 3
   },
   "file_extension": ".py",
   "mimetype": "text/x-python",
   "name": "python",
   "nbconvert_exporter": "python",
   "pygments_lexer": "ipython3",
   "version": "3.11.6"
  }
 },
 "nbformat": 4,
 "nbformat_minor": 5
}
